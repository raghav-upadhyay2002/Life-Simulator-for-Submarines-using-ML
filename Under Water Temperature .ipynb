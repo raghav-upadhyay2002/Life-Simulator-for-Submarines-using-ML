{
 "cells": [
  {
   "cell_type": "code",
   "execution_count": 1,
   "id": "0ff6b243",
   "metadata": {},
   "outputs": [],
   "source": [
    "import pandas as pd\n",
    "import matplotlib.pyplot as plt\n",
    "%matplotlib inline"
   ]
  },
  {
   "cell_type": "code",
   "execution_count": 2,
   "id": "d8f788b4",
   "metadata": {},
   "outputs": [],
   "source": [
    "df = pd.read_csv(\"underwater_temperature.csv\", encoding='latin-1')"
   ]
  },
  {
   "cell_type": "code",
   "execution_count": 3,
   "id": "b5c7d898",
   "metadata": {},
   "outputs": [
    {
     "data": {
      "text/html": [
       "<div>\n",
       "<style scoped>\n",
       "    .dataframe tbody tr th:only-of-type {\n",
       "        vertical-align: middle;\n",
       "    }\n",
       "\n",
       "    .dataframe tbody tr th {\n",
       "        vertical-align: top;\n",
       "    }\n",
       "\n",
       "    .dataframe thead th {\n",
       "        text-align: right;\n",
       "    }\n",
       "</style>\n",
       "<table border=\"1\" class=\"dataframe\">\n",
       "  <thead>\n",
       "    <tr style=\"text-align: right;\">\n",
       "      <th></th>\n",
       "      <th>ID</th>\n",
       "      <th>Site</th>\n",
       "      <th>Latitude</th>\n",
       "      <th>Longitude</th>\n",
       "      <th>Date</th>\n",
       "      <th>Time</th>\n",
       "      <th>Temp (°C)</th>\n",
       "      <th>Depth</th>\n",
       "    </tr>\n",
       "  </thead>\n",
       "  <tbody>\n",
       "    <tr>\n",
       "      <th>0</th>\n",
       "      <td>1</td>\n",
       "      <td>Ilha Deserta</td>\n",
       "      <td>27.2706</td>\n",
       "      <td>48.3310</td>\n",
       "      <td>2013/02/20</td>\n",
       "      <td>11:40:02</td>\n",
       "      <td>24.448</td>\n",
       "      <td>12.0</td>\n",
       "    </tr>\n",
       "    <tr>\n",
       "      <th>1</th>\n",
       "      <td>2</td>\n",
       "      <td>Ilha Deserta</td>\n",
       "      <td>27.2706</td>\n",
       "      <td>48.3310</td>\n",
       "      <td>2013/02/20</td>\n",
       "      <td>12:00:03</td>\n",
       "      <td>24.448</td>\n",
       "      <td>12.0</td>\n",
       "    </tr>\n",
       "    <tr>\n",
       "      <th>2</th>\n",
       "      <td>3</td>\n",
       "      <td>Ilha Deserta</td>\n",
       "      <td>27.2706</td>\n",
       "      <td>48.3310</td>\n",
       "      <td>2013/02/20</td>\n",
       "      <td>12:20:04</td>\n",
       "      <td>24.545</td>\n",
       "      <td>12.0</td>\n",
       "    </tr>\n",
       "    <tr>\n",
       "      <th>3</th>\n",
       "      <td>4</td>\n",
       "      <td>Ilha Deserta</td>\n",
       "      <td>27.2706</td>\n",
       "      <td>48.3310</td>\n",
       "      <td>2013/02/20</td>\n",
       "      <td>12:40:05</td>\n",
       "      <td>24.448</td>\n",
       "      <td>12.0</td>\n",
       "    </tr>\n",
       "    <tr>\n",
       "      <th>4</th>\n",
       "      <td>5</td>\n",
       "      <td>Ilha Deserta</td>\n",
       "      <td>27.2706</td>\n",
       "      <td>48.3310</td>\n",
       "      <td>2013/02/20</td>\n",
       "      <td>13:00:06</td>\n",
       "      <td>24.351</td>\n",
       "      <td>12.0</td>\n",
       "    </tr>\n",
       "    <tr>\n",
       "      <th>...</th>\n",
       "      <td>...</td>\n",
       "      <td>...</td>\n",
       "      <td>...</td>\n",
       "      <td>...</td>\n",
       "      <td>...</td>\n",
       "      <td>...</td>\n",
       "      <td>...</td>\n",
       "      <td>...</td>\n",
       "    </tr>\n",
       "    <tr>\n",
       "      <th>408633</th>\n",
       "      <td>408634</td>\n",
       "      <td>lha do Xavier</td>\n",
       "      <td>27.6092</td>\n",
       "      <td>48.3858</td>\n",
       "      <td>2013/03/07</td>\n",
       "      <td>09:03:29</td>\n",
       "      <td>24.931</td>\n",
       "      <td>5.0</td>\n",
       "    </tr>\n",
       "    <tr>\n",
       "      <th>408634</th>\n",
       "      <td>408635</td>\n",
       "      <td>lha do Xavier</td>\n",
       "      <td>27.6092</td>\n",
       "      <td>48.3858</td>\n",
       "      <td>2013/03/07</td>\n",
       "      <td>09:23:29</td>\n",
       "      <td>24.931</td>\n",
       "      <td>5.0</td>\n",
       "    </tr>\n",
       "    <tr>\n",
       "      <th>408635</th>\n",
       "      <td>408636</td>\n",
       "      <td>lha do Xavier</td>\n",
       "      <td>27.6092</td>\n",
       "      <td>48.3858</td>\n",
       "      <td>2013/03/07</td>\n",
       "      <td>09:43:29</td>\n",
       "      <td>24.931</td>\n",
       "      <td>5.0</td>\n",
       "    </tr>\n",
       "    <tr>\n",
       "      <th>408636</th>\n",
       "      <td>408637</td>\n",
       "      <td>lha do Xavier</td>\n",
       "      <td>27.6092</td>\n",
       "      <td>48.3858</td>\n",
       "      <td>2013/03/07</td>\n",
       "      <td>10:03:29</td>\n",
       "      <td>24.931</td>\n",
       "      <td>5.0</td>\n",
       "    </tr>\n",
       "    <tr>\n",
       "      <th>408637</th>\n",
       "      <td>408638</td>\n",
       "      <td>lha do Xavier</td>\n",
       "      <td>27.6092</td>\n",
       "      <td>48.3858</td>\n",
       "      <td>2013/03/07</td>\n",
       "      <td>10:23:29</td>\n",
       "      <td>24.931</td>\n",
       "      <td>5.0</td>\n",
       "    </tr>\n",
       "  </tbody>\n",
       "</table>\n",
       "<p>408638 rows × 8 columns</p>\n",
       "</div>"
      ],
      "text/plain": [
       "            ID           Site  Latitude  Longitude        Date      Time  \\\n",
       "0            1   Ilha Deserta   27.2706    48.3310  2013/02/20  11:40:02   \n",
       "1            2   Ilha Deserta   27.2706    48.3310  2013/02/20  12:00:03   \n",
       "2            3   Ilha Deserta   27.2706    48.3310  2013/02/20  12:20:04   \n",
       "3            4   Ilha Deserta   27.2706    48.3310  2013/02/20  12:40:05   \n",
       "4            5   Ilha Deserta   27.2706    48.3310  2013/02/20  13:00:06   \n",
       "...        ...            ...       ...        ...         ...       ...   \n",
       "408633  408634  lha do Xavier   27.6092    48.3858  2013/03/07  09:03:29   \n",
       "408634  408635  lha do Xavier   27.6092    48.3858  2013/03/07  09:23:29   \n",
       "408635  408636  lha do Xavier   27.6092    48.3858  2013/03/07  09:43:29   \n",
       "408636  408637  lha do Xavier   27.6092    48.3858  2013/03/07  10:03:29   \n",
       "408637  408638  lha do Xavier   27.6092    48.3858  2013/03/07  10:23:29   \n",
       "\n",
       "        Temp (°C)  Depth  \n",
       "0          24.448   12.0  \n",
       "1          24.448   12.0  \n",
       "2          24.545   12.0  \n",
       "3          24.448   12.0  \n",
       "4          24.351   12.0  \n",
       "...           ...    ...  \n",
       "408633     24.931    5.0  \n",
       "408634     24.931    5.0  \n",
       "408635     24.931    5.0  \n",
       "408636     24.931    5.0  \n",
       "408637     24.931    5.0  \n",
       "\n",
       "[408638 rows x 8 columns]"
      ]
     },
     "execution_count": 3,
     "metadata": {},
     "output_type": "execute_result"
    }
   ],
   "source": [
    "df"
   ]
  },
  {
   "cell_type": "code",
   "execution_count": 4,
   "id": "6170f8e8",
   "metadata": {},
   "outputs": [],
   "source": [
    "df.drop([\"ID\",\"Site\"],axis= 1,inplace=True)"
   ]
  },
  {
   "cell_type": "code",
   "execution_count": 5,
   "id": "deb64a91",
   "metadata": {},
   "outputs": [
    {
     "data": {
      "text/html": [
       "<div>\n",
       "<style scoped>\n",
       "    .dataframe tbody tr th:only-of-type {\n",
       "        vertical-align: middle;\n",
       "    }\n",
       "\n",
       "    .dataframe tbody tr th {\n",
       "        vertical-align: top;\n",
       "    }\n",
       "\n",
       "    .dataframe thead th {\n",
       "        text-align: right;\n",
       "    }\n",
       "</style>\n",
       "<table border=\"1\" class=\"dataframe\">\n",
       "  <thead>\n",
       "    <tr style=\"text-align: right;\">\n",
       "      <th></th>\n",
       "      <th>Latitude</th>\n",
       "      <th>Longitude</th>\n",
       "      <th>Date</th>\n",
       "      <th>Time</th>\n",
       "      <th>Temp (°C)</th>\n",
       "      <th>Depth</th>\n",
       "    </tr>\n",
       "  </thead>\n",
       "  <tbody>\n",
       "    <tr>\n",
       "      <th>0</th>\n",
       "      <td>27.2706</td>\n",
       "      <td>48.331</td>\n",
       "      <td>2013/02/20</td>\n",
       "      <td>11:40:02</td>\n",
       "      <td>24.448</td>\n",
       "      <td>12.0</td>\n",
       "    </tr>\n",
       "    <tr>\n",
       "      <th>1</th>\n",
       "      <td>27.2706</td>\n",
       "      <td>48.331</td>\n",
       "      <td>2013/02/20</td>\n",
       "      <td>12:00:03</td>\n",
       "      <td>24.448</td>\n",
       "      <td>12.0</td>\n",
       "    </tr>\n",
       "    <tr>\n",
       "      <th>2</th>\n",
       "      <td>27.2706</td>\n",
       "      <td>48.331</td>\n",
       "      <td>2013/02/20</td>\n",
       "      <td>12:20:04</td>\n",
       "      <td>24.545</td>\n",
       "      <td>12.0</td>\n",
       "    </tr>\n",
       "    <tr>\n",
       "      <th>3</th>\n",
       "      <td>27.2706</td>\n",
       "      <td>48.331</td>\n",
       "      <td>2013/02/20</td>\n",
       "      <td>12:40:05</td>\n",
       "      <td>24.448</td>\n",
       "      <td>12.0</td>\n",
       "    </tr>\n",
       "    <tr>\n",
       "      <th>4</th>\n",
       "      <td>27.2706</td>\n",
       "      <td>48.331</td>\n",
       "      <td>2013/02/20</td>\n",
       "      <td>13:00:06</td>\n",
       "      <td>24.351</td>\n",
       "      <td>12.0</td>\n",
       "    </tr>\n",
       "  </tbody>\n",
       "</table>\n",
       "</div>"
      ],
      "text/plain": [
       "   Latitude  Longitude        Date      Time  Temp (°C)  Depth\n",
       "0   27.2706     48.331  2013/02/20  11:40:02     24.448   12.0\n",
       "1   27.2706     48.331  2013/02/20  12:00:03     24.448   12.0\n",
       "2   27.2706     48.331  2013/02/20  12:20:04     24.545   12.0\n",
       "3   27.2706     48.331  2013/02/20  12:40:05     24.448   12.0\n",
       "4   27.2706     48.331  2013/02/20  13:00:06     24.351   12.0"
      ]
     },
     "execution_count": 5,
     "metadata": {},
     "output_type": "execute_result"
    }
   ],
   "source": [
    "df.head()"
   ]
  },
  {
   "cell_type": "code",
   "execution_count": 6,
   "id": "de46a977",
   "metadata": {},
   "outputs": [
    {
     "data": {
      "text/html": [
       "<div>\n",
       "<style scoped>\n",
       "    .dataframe tbody tr th:only-of-type {\n",
       "        vertical-align: middle;\n",
       "    }\n",
       "\n",
       "    .dataframe tbody tr th {\n",
       "        vertical-align: top;\n",
       "    }\n",
       "\n",
       "    .dataframe thead th {\n",
       "        text-align: right;\n",
       "    }\n",
       "</style>\n",
       "<table border=\"1\" class=\"dataframe\">\n",
       "  <thead>\n",
       "    <tr style=\"text-align: right;\">\n",
       "      <th></th>\n",
       "      <th>Latitude</th>\n",
       "      <th>Longitude</th>\n",
       "      <th>Temp (°C)</th>\n",
       "      <th>Depth</th>\n",
       "    </tr>\n",
       "  </thead>\n",
       "  <tbody>\n",
       "    <tr>\n",
       "      <th>count</th>\n",
       "      <td>408638.000000</td>\n",
       "      <td>408638.000000</td>\n",
       "      <td>408634.000000</td>\n",
       "      <td>408638.000000</td>\n",
       "    </tr>\n",
       "    <tr>\n",
       "      <th>mean</th>\n",
       "      <td>27.385022</td>\n",
       "      <td>48.432279</td>\n",
       "      <td>20.759051</td>\n",
       "      <td>12.010513</td>\n",
       "    </tr>\n",
       "    <tr>\n",
       "      <th>std</th>\n",
       "      <td>0.509617</td>\n",
       "      <td>0.096028</td>\n",
       "      <td>2.980158</td>\n",
       "      <td>6.177916</td>\n",
       "    </tr>\n",
       "    <tr>\n",
       "      <th>min</th>\n",
       "      <td>26.367900</td>\n",
       "      <td>48.331000</td>\n",
       "      <td>14.421000</td>\n",
       "      <td>5.000000</td>\n",
       "    </tr>\n",
       "    <tr>\n",
       "      <th>25%</th>\n",
       "      <td>27.180400</td>\n",
       "      <td>48.385800</td>\n",
       "      <td>18.236000</td>\n",
       "      <td>5.000000</td>\n",
       "    </tr>\n",
       "    <tr>\n",
       "      <th>50%</th>\n",
       "      <td>27.270600</td>\n",
       "      <td>48.408000</td>\n",
       "      <td>20.615000</td>\n",
       "      <td>12.000000</td>\n",
       "    </tr>\n",
       "    <tr>\n",
       "      <th>75%</th>\n",
       "      <td>27.611100</td>\n",
       "      <td>48.522000</td>\n",
       "      <td>23.100000</td>\n",
       "      <td>12.000000</td>\n",
       "    </tr>\n",
       "    <tr>\n",
       "      <th>max</th>\n",
       "      <td>28.446100</td>\n",
       "      <td>48.708700</td>\n",
       "      <td>29.252000</td>\n",
       "      <td>22.100000</td>\n",
       "    </tr>\n",
       "  </tbody>\n",
       "</table>\n",
       "</div>"
      ],
      "text/plain": [
       "            Latitude      Longitude      Temp (°C)          Depth\n",
       "count  408638.000000  408638.000000  408634.000000  408638.000000\n",
       "mean       27.385022      48.432279      20.759051      12.010513\n",
       "std         0.509617       0.096028       2.980158       6.177916\n",
       "min        26.367900      48.331000      14.421000       5.000000\n",
       "25%        27.180400      48.385800      18.236000       5.000000\n",
       "50%        27.270600      48.408000      20.615000      12.000000\n",
       "75%        27.611100      48.522000      23.100000      12.000000\n",
       "max        28.446100      48.708700      29.252000      22.100000"
      ]
     },
     "execution_count": 6,
     "metadata": {},
     "output_type": "execute_result"
    }
   ],
   "source": [
    "df.describe()"
   ]
  },
  {
   "cell_type": "code",
   "execution_count": 7,
   "id": "a5141718",
   "metadata": {},
   "outputs": [
    {
     "data": {
      "text/plain": [
       "Latitude     False\n",
       "Longitude    False\n",
       "Date         False\n",
       "Time         False\n",
       "Temp (°C)     True\n",
       "Depth        False\n",
       "dtype: bool"
      ]
     },
     "execution_count": 7,
     "metadata": {},
     "output_type": "execute_result"
    }
   ],
   "source": [
    "df.isna().any()"
   ]
  },
  {
   "cell_type": "code",
   "execution_count": 8,
   "id": "1ea926f1",
   "metadata": {},
   "outputs": [
    {
     "data": {
      "text/html": [
       "<div>\n",
       "<style scoped>\n",
       "    .dataframe tbody tr th:only-of-type {\n",
       "        vertical-align: middle;\n",
       "    }\n",
       "\n",
       "    .dataframe tbody tr th {\n",
       "        vertical-align: top;\n",
       "    }\n",
       "\n",
       "    .dataframe thead th {\n",
       "        text-align: right;\n",
       "    }\n",
       "</style>\n",
       "<table border=\"1\" class=\"dataframe\">\n",
       "  <thead>\n",
       "    <tr style=\"text-align: right;\">\n",
       "      <th></th>\n",
       "      <th>Latitude</th>\n",
       "      <th>Longitude</th>\n",
       "      <th>Date</th>\n",
       "      <th>Time</th>\n",
       "      <th>Temp (°C)</th>\n",
       "      <th>Depth</th>\n",
       "    </tr>\n",
       "  </thead>\n",
       "  <tbody>\n",
       "    <tr>\n",
       "      <th>119712</th>\n",
       "      <td>27.1719</td>\n",
       "      <td>48.408</td>\n",
       "      <td>2014/08/19</td>\n",
       "      <td>14:52:57</td>\n",
       "      <td>NaN</td>\n",
       "      <td>12.0</td>\n",
       "    </tr>\n",
       "    <tr>\n",
       "      <th>119713</th>\n",
       "      <td>27.1719</td>\n",
       "      <td>48.408</td>\n",
       "      <td>2014/08/19</td>\n",
       "      <td>14:52:58</td>\n",
       "      <td>NaN</td>\n",
       "      <td>12.0</td>\n",
       "    </tr>\n",
       "    <tr>\n",
       "      <th>119714</th>\n",
       "      <td>27.1719</td>\n",
       "      <td>48.408</td>\n",
       "      <td>2014/08/19</td>\n",
       "      <td>14:52:59</td>\n",
       "      <td>NaN</td>\n",
       "      <td>12.0</td>\n",
       "    </tr>\n",
       "    <tr>\n",
       "      <th>119715</th>\n",
       "      <td>27.1719</td>\n",
       "      <td>48.408</td>\n",
       "      <td>2014/08/19</td>\n",
       "      <td>14:53:00</td>\n",
       "      <td>NaN</td>\n",
       "      <td>12.0</td>\n",
       "    </tr>\n",
       "  </tbody>\n",
       "</table>\n",
       "</div>"
      ],
      "text/plain": [
       "        Latitude  Longitude        Date      Time  Temp (°C)  Depth\n",
       "119712   27.1719     48.408  2014/08/19  14:52:57        NaN   12.0\n",
       "119713   27.1719     48.408  2014/08/19  14:52:58        NaN   12.0\n",
       "119714   27.1719     48.408  2014/08/19  14:52:59        NaN   12.0\n",
       "119715   27.1719     48.408  2014/08/19  14:53:00        NaN   12.0"
      ]
     },
     "execution_count": 8,
     "metadata": {},
     "output_type": "execute_result"
    }
   ],
   "source": [
    "df[df[\"Temp (°C)\"].isna()]"
   ]
  },
  {
   "cell_type": "code",
   "execution_count": 9,
   "id": "76c6f3eb",
   "metadata": {},
   "outputs": [],
   "source": [
    "df = df.drop([df.index[119712] , df.index[119713], df.index[119714], df.index[119715]]) "
   ]
  },
  {
   "cell_type": "code",
   "execution_count": 10,
   "id": "5fdbe6dd",
   "metadata": {},
   "outputs": [
    {
     "data": {
      "text/plain": [
       "Latitude     False\n",
       "Longitude    False\n",
       "Date         False\n",
       "Time         False\n",
       "Temp (°C)    False\n",
       "Depth        False\n",
       "dtype: bool"
      ]
     },
     "execution_count": 10,
     "metadata": {},
     "output_type": "execute_result"
    }
   ],
   "source": [
    "df.isna().any()"
   ]
  },
  {
   "cell_type": "code",
   "execution_count": 11,
   "id": "002b6d6d",
   "metadata": {
    "scrolled": false
   },
   "outputs": [
    {
     "data": {
      "text/plain": [
       "Text(0.5, 1.0, 'Dot Plot: Depth vs. Temperature')"
      ]
     },
     "execution_count": 11,
     "metadata": {},
     "output_type": "execute_result"
    },
    {
     "data": {
      "image/png": "[encoded data removed]",
      "text/plain": [
       "<Figure size 640x480 with 1 Axes>"
      ]
     },
     "metadata": {},
     "output_type": "display_data"
    }
   ],
   "source": [
    "plt.scatter(df['Depth'], df['Temp (°C)'])\n",
    "plt.xlabel('Depth')\n",
    "plt.ylabel('Temp (°C)')\n",
    "plt.title('Dot Plot: Depth vs. Temperature')"
   ]
  },
  {
   "cell_type": "code",
   "execution_count": 12,
   "id": "249690fe",
   "metadata": {},
   "outputs": [
    {
     "data": {
      "text/plain": [
       "Text(0.5, 1.0, 'Dot Plot: Latitude vs. Temperature')"
      ]
     },
     "execution_count": 12,
     "metadata": {},
     "output_type": "execute_result"
    },
    {
     "data": {
      "image/png": "[encoded data removed]",
      "text/plain": [
       "<Figure size 640x480 with 1 Axes>"
      ]
     },
     "metadata": {},
     "output_type": "display_data"
    }
   ],
   "source": [
    "plt.scatter(df['Latitude'], df['Temp (°C)'])\n",
    "plt.xlabel('Latitude')\n",
    "plt.ylabel('Temp (°C)')\n",
    "plt.title('Dot Plot: Latitude vs. Temperature')"
   ]
  },
  {
   "cell_type": "code",
   "execution_count": 13,
   "id": "03e0e5bf",
   "metadata": {},
   "outputs": [
    {
     "data": {
      "text/plain": [
       "Text(0.5, 1.0, 'Dot Plot: Longitude vs. Temperature')"
      ]
     },
     "execution_count": 13,
     "metadata": {},
     "output_type": "execute_result"
    },
    {
     "data": {
      "image/png": "[encoded data removed]",
      "text/plain": [
       "<Figure size 640x480 with 1 Axes>"
      ]
     },
     "metadata": {},
     "output_type": "display_data"
    }
   ],
   "source": [
    "plt.scatter(df['Longitude'], df['Temp (°C)'])\n",
    "plt.xlabel('Longitude')\n",
    "plt.ylabel('Temp (°C)')\n",
    "plt.title('Dot Plot: Longitude vs. Temperature')"
   ]
  },
  {
   "cell_type": "code",
   "execution_count": 14,
   "id": "9b94b4dd",
   "metadata": {},
   "outputs": [],
   "source": [
    "df['Date'] = pd.to_datetime(df['Date'])\n",
    "df['Time'] = pd.to_datetime(df['Time'])\n",
    "df['Day'] = df['Date'].dt.dayofyear\n",
    "\n",
    "df['Hour'] = df['Time'].dt.hour\n",
    "df['Minute'] = df['Time'].dt.minute"
   ]
  },
  {
   "cell_type": "code",
   "execution_count": 15,
   "id": "97507e2e",
   "metadata": {},
   "outputs": [
    {
     "data": {
      "text/html": [
       "<div>\n",
       "<style scoped>\n",
       "    .dataframe tbody tr th:only-of-type {\n",
       "        vertical-align: middle;\n",
       "    }\n",
       "\n",
       "    .dataframe tbody tr th {\n",
       "        vertical-align: top;\n",
       "    }\n",
       "\n",
       "    .dataframe thead th {\n",
       "        text-align: right;\n",
       "    }\n",
       "</style>\n",
       "<table border=\"1\" class=\"dataframe\">\n",
       "  <thead>\n",
       "    <tr style=\"text-align: right;\">\n",
       "      <th></th>\n",
       "      <th>Latitude</th>\n",
       "      <th>Longitude</th>\n",
       "      <th>Date</th>\n",
       "      <th>Time</th>\n",
       "      <th>Temp (°C)</th>\n",
       "      <th>Depth</th>\n",
       "      <th>Day</th>\n",
       "      <th>Hour</th>\n",
       "      <th>Minute</th>\n",
       "    </tr>\n",
       "  </thead>\n",
       "  <tbody>\n",
       "    <tr>\n",
       "      <th>0</th>\n",
       "      <td>27.2706</td>\n",
       "      <td>48.331</td>\n",
       "      <td>2013-02-20</td>\n",
       "      <td>2023-10-11 11:40:02</td>\n",
       "      <td>24.448</td>\n",
       "      <td>12.0</td>\n",
       "      <td>51</td>\n",
       "      <td>11</td>\n",
       "      <td>40</td>\n",
       "    </tr>\n",
       "    <tr>\n",
       "      <th>1</th>\n",
       "      <td>27.2706</td>\n",
       "      <td>48.331</td>\n",
       "      <td>2013-02-20</td>\n",
       "      <td>2023-10-11 12:00:03</td>\n",
       "      <td>24.448</td>\n",
       "      <td>12.0</td>\n",
       "      <td>51</td>\n",
       "      <td>12</td>\n",
       "      <td>0</td>\n",
       "    </tr>\n",
       "    <tr>\n",
       "      <th>2</th>\n",
       "      <td>27.2706</td>\n",
       "      <td>48.331</td>\n",
       "      <td>2013-02-20</td>\n",
       "      <td>2023-10-11 12:20:04</td>\n",
       "      <td>24.545</td>\n",
       "      <td>12.0</td>\n",
       "      <td>51</td>\n",
       "      <td>12</td>\n",
       "      <td>20</td>\n",
       "    </tr>\n",
       "    <tr>\n",
       "      <th>3</th>\n",
       "      <td>27.2706</td>\n",
       "      <td>48.331</td>\n",
       "      <td>2013-02-20</td>\n",
       "      <td>2023-10-11 12:40:05</td>\n",
       "      <td>24.448</td>\n",
       "      <td>12.0</td>\n",
       "      <td>51</td>\n",
       "      <td>12</td>\n",
       "      <td>40</td>\n",
       "    </tr>\n",
       "    <tr>\n",
       "      <th>4</th>\n",
       "      <td>27.2706</td>\n",
       "      <td>48.331</td>\n",
       "      <td>2013-02-20</td>\n",
       "      <td>2023-10-11 13:00:06</td>\n",
       "      <td>24.351</td>\n",
       "      <td>12.0</td>\n",
       "      <td>51</td>\n",
       "      <td>13</td>\n",
       "      <td>0</td>\n",
       "    </tr>\n",
       "  </tbody>\n",
       "</table>\n",
       "</div>"
      ],
      "text/plain": [
       "   Latitude  Longitude       Date                Time  Temp (°C)  Depth  Day  \\\n",
       "0   27.2706     48.331 2013-02-20 2023-10-11 11:40:02     24.448   12.0   51   \n",
       "1   27.2706     48.331 2013-02-20 2023-10-11 12:00:03     24.448   12.0   51   \n",
       "2   27.2706     48.331 2013-02-20 2023-10-11 12:20:04     24.545   12.0   51   \n",
       "3   27.2706     48.331 2013-02-20 2023-10-11 12:40:05     24.448   12.0   51   \n",
       "4   27.2706     48.331 2013-02-20 2023-10-11 13:00:06     24.351   12.0   51   \n",
       "\n",
       "   Hour  Minute  \n",
       "0    11      40  \n",
       "1    12       0  \n",
       "2    12      20  \n",
       "3    12      40  \n",
       "4    13       0  "
      ]
     },
     "execution_count": 15,
     "metadata": {},
     "output_type": "execute_result"
    }
   ],
   "source": [
    "df.head()"
   ]
  },
  {
   "cell_type": "code",
   "execution_count": 27,
   "id": "ecd94c1f",
   "metadata": {},
   "outputs": [],
   "source": [
    "from sklearn.model_selection import train_test_split"
   ]
  },
  {
   "cell_type": "code",
   "execution_count": 28,
   "id": "90d03f2c",
   "metadata": {},
   "outputs": [],
   "source": [
    "x = df[['Latitude', 'Longitude', 'Depth', 'Day', 'Hour', 'Minute']]\n",
    "y=df[\"Temp (°C)\"]"
   ]
  },
  {
   "cell_type": "code",
   "execution_count": 29,
   "id": "2a890dd1",
   "metadata": {},
   "outputs": [],
   "source": [
    "x_train, x_test, y_train, y_test = train_test_split(x, y, test_size = 0.1)\n"
   ]
  },
  {
   "cell_type": "code",
   "execution_count": 30,
   "id": "59a8a0a2",
   "metadata": {},
   "outputs": [],
   "source": [
    "from sklearn.preprocessing import MinMaxScaler\n",
    "\n",
    "scaler = MinMaxScaler()\n",
    "\n",
    "scaler.fit(x_train)\n",
    "\n",
    "x_train = scaler.transform(x_train)\n",
    "x_test = scaler.transform(x_test)"
   ]
  },
  {
   "cell_type": "markdown",
   "id": "d1f31894",
   "metadata": {},
   "source": [
    "# LinearRegression"
   ]
  },
  {
   "cell_type": "code",
   "execution_count": 31,
   "id": "47e914c4",
   "metadata": {},
   "outputs": [
    {
     "data": {
      "text/html": [
       "<style>#sk-container-id-3 {color: black;}#sk-container-id-3 pre{padding: 0;}#sk-container-id-3 div.sk-toggleable {background-color: white;}#sk-container-id-3 label.sk-toggleable__label {cursor: pointer;display: block;width: 100%;margin-bottom: 0;padding: 0.3em;box-sizing: border-box;text-align: center;}#sk-container-id-3 label.sk-toggleable__label-arrow:before {content: \"▸\";float: left;margin-right: 0.25em;color: #696969;}#sk-container-id-3 label.sk-toggleable__label-arrow:hover:before {color: black;}#sk-container-id-3 div.sk-estimator:hover label.sk-toggleable__label-arrow:before {color: black;}#sk-container-id-3 div.sk-toggleable__content {max-height: 0;max-width: 0;overflow: hidden;text-align: left;background-color: #f0f8ff;}#sk-container-id-3 div.sk-toggleable__content pre {margin: 0.2em;color: black;border-radius: 0.25em;background-color: #f0f8ff;}#sk-container-id-3 input.sk-toggleable__control:checked~div.sk-toggleable__content {max-height: 200px;max-width: 100%;overflow: auto;}#sk-container-id-3 input.sk-toggleable__control:checked~label.sk-toggleable__label-arrow:before {content: \"▾\";}#sk-container-id-3 div.sk-estimator input.sk-toggleable__control:checked~label.sk-toggleable__label {background-color: #d4ebff;}#sk-container-id-3 div.sk-label input.sk-toggleable__control:checked~label.sk-toggleable__label {background-color: #d4ebff;}#sk-container-id-3 input.sk-hidden--visually {border: 0;clip: rect(1px 1px 1px 1px);clip: rect(1px, 1px, 1px, 1px);height: 1px;margin: -1px;overflow: hidden;padding: 0;position: absolute;width: 1px;}#sk-container-id-3 div.sk-estimator {font-family: monospace;background-color: #f0f8ff;border: 1px dotted black;border-radius: 0.25em;box-sizing: border-box;margin-bottom: 0.5em;}#sk-container-id-3 div.sk-estimator:hover {background-color: #d4ebff;}#sk-container-id-3 div.sk-parallel-item::after {content: \"\";width: 100%;border-bottom: 1px solid gray;flex-grow: 1;}#sk-container-id-3 div.sk-label:hover label.sk-toggleable__label {background-color: #d4ebff;}#sk-container-id-3 div.sk-serial::before {content: \"\";position: absolute;border-left: 1px solid gray;box-sizing: border-box;top: 0;bottom: 0;left: 50%;z-index: 0;}#sk-container-id-3 div.sk-serial {display: flex;flex-direction: column;align-items: center;background-color: white;padding-right: 0.2em;padding-left: 0.2em;position: relative;}#sk-container-id-3 div.sk-item {position: relative;z-index: 1;}#sk-container-id-3 div.sk-parallel {display: flex;align-items: stretch;justify-content: center;background-color: white;position: relative;}#sk-container-id-3 div.sk-item::before, #sk-container-id-3 div.sk-parallel-item::before {content: \"\";position: absolute;border-left: 1px solid gray;box-sizing: border-box;top: 0;bottom: 0;left: 50%;z-index: -1;}#sk-container-id-3 div.sk-parallel-item {display: flex;flex-direction: column;z-index: 1;position: relative;background-color: white;}#sk-container-id-3 div.sk-parallel-item:first-child::after {align-self: flex-end;width: 50%;}#sk-container-id-3 div.sk-parallel-item:last-child::after {align-self: flex-start;width: 50%;}#sk-container-id-3 div.sk-parallel-item:only-child::after {width: 0;}#sk-container-id-3 div.sk-dashed-wrapped {border: 1px dashed gray;margin: 0 0.4em 0.5em 0.4em;box-sizing: border-box;padding-bottom: 0.4em;background-color: white;}#sk-container-id-3 div.sk-label label {font-family: monospace;font-weight: bold;display: inline-block;line-height: 1.2em;}#sk-container-id-3 div.sk-label-container {text-align: center;}#sk-container-id-3 div.sk-container {/* jupyter's `normalize.less` sets `[hidden] { display: none; }` but bootstrap.min.css set `[hidden] { display: none !important; }` so we also need the `!important` here to be able to override the default hidden behavior on the sphinx rendered scikit-learn.org. See: https://github.com/scikit-learn/scikit-learn/issues/21755 */display: inline-block !important;position: relative;}#sk-container-id-3 div.sk-text-repr-fallback {display: none;}</style><div id=\"sk-container-id-3\" class=\"sk-top-container\"><div class=\"sk-text-repr-fallback\"><pre>LinearRegression()</pre><b>In a Jupyter environment, please rerun this cell to show the HTML representation or trust the notebook. <br />On GitHub, the HTML representation is unable to render, please try loading this page with nbviewer.org.</b></div><div class=\"sk-container\" hidden><div class=\"sk-item\"><div class=\"sk-estimator sk-toggleable\"><input class=\"sk-toggleable__control sk-hidden--visually\" id=\"sk-estimator-id-3\" type=\"checkbox\" checked><label for=\"sk-estimator-id-3\" class=\"sk-toggleable__label sk-toggleable__label-arrow\">LinearRegression</label><div class=\"sk-toggleable__content\"><pre>LinearRegression()</pre></div></div></div></div></div>"
      ],
      "text/plain": [
       "LinearRegression()"
      ]
     },
     "execution_count": 31,
     "metadata": {},
     "output_type": "execute_result"
    }
   ],
   "source": [
    "from sklearn import linear_model\n",
    "\n",
    "reg = linear_model.LinearRegression()\n",
    "reg.fit(x_train, y_train)"
   ]
  },
  {
   "cell_type": "code",
   "execution_count": 32,
   "id": "187cfc8d",
   "metadata": {},
   "outputs": [
    {
     "data": {
      "text/plain": [
       "20.91125326852041"
      ]
     },
     "execution_count": 32,
     "metadata": {},
     "output_type": "execute_result"
    }
   ],
   "source": [
    "(reg.score(x_test, y_test))*100"
   ]
  },
  {
   "cell_type": "markdown",
   "id": "9023975d",
   "metadata": {},
   "source": [
    "# Random Forest"
   ]
  },
  {
   "cell_type": "code",
   "execution_count": 33,
   "id": "6a7f825e",
   "metadata": {},
   "outputs": [
    {
     "data": {
      "text/html": [
       "<style>#sk-container-id-4 {color: black;}#sk-container-id-4 pre{padding: 0;}#sk-container-id-4 div.sk-toggleable {background-color: white;}#sk-container-id-4 label.sk-toggleable__label {cursor: pointer;display: block;width: 100%;margin-bottom: 0;padding: 0.3em;box-sizing: border-box;text-align: center;}#sk-container-id-4 label.sk-toggleable__label-arrow:before {content: \"▸\";float: left;margin-right: 0.25em;color: #696969;}#sk-container-id-4 label.sk-toggleable__label-arrow:hover:before {color: black;}#sk-container-id-4 div.sk-estimator:hover label.sk-toggleable__label-arrow:before {color: black;}#sk-container-id-4 div.sk-toggleable__content {max-height: 0;max-width: 0;overflow: hidden;text-align: left;background-color: #f0f8ff;}#sk-container-id-4 div.sk-toggleable__content pre {margin: 0.2em;color: black;border-radius: 0.25em;background-color: #f0f8ff;}#sk-container-id-4 input.sk-toggleable__control:checked~div.sk-toggleable__content {max-height: 200px;max-width: 100%;overflow: auto;}#sk-container-id-4 input.sk-toggleable__control:checked~label.sk-toggleable__label-arrow:before {content: \"▾\";}#sk-container-id-4 div.sk-estimator input.sk-toggleable__control:checked~label.sk-toggleable__label {background-color: #d4ebff;}#sk-container-id-4 div.sk-label input.sk-toggleable__control:checked~label.sk-toggleable__label {background-color: #d4ebff;}#sk-container-id-4 input.sk-hidden--visually {border: 0;clip: rect(1px 1px 1px 1px);clip: rect(1px, 1px, 1px, 1px);height: 1px;margin: -1px;overflow: hidden;padding: 0;position: absolute;width: 1px;}#sk-container-id-4 div.sk-estimator {font-family: monospace;background-color: #f0f8ff;border: 1px dotted black;border-radius: 0.25em;box-sizing: border-box;margin-bottom: 0.5em;}#sk-container-id-4 div.sk-estimator:hover {background-color: #d4ebff;}#sk-container-id-4 div.sk-parallel-item::after {content: \"\";width: 100%;border-bottom: 1px solid gray;flex-grow: 1;}#sk-container-id-4 div.sk-label:hover label.sk-toggleable__label {background-color: #d4ebff;}#sk-container-id-4 div.sk-serial::before {content: \"\";position: absolute;border-left: 1px solid gray;box-sizing: border-box;top: 0;bottom: 0;left: 50%;z-index: 0;}#sk-container-id-4 div.sk-serial {display: flex;flex-direction: column;align-items: center;background-color: white;padding-right: 0.2em;padding-left: 0.2em;position: relative;}#sk-container-id-4 div.sk-item {position: relative;z-index: 1;}#sk-container-id-4 div.sk-parallel {display: flex;align-items: stretch;justify-content: center;background-color: white;position: relative;}#sk-container-id-4 div.sk-item::before, #sk-container-id-4 div.sk-parallel-item::before {content: \"\";position: absolute;border-left: 1px solid gray;box-sizing: border-box;top: 0;bottom: 0;left: 50%;z-index: -1;}#sk-container-id-4 div.sk-parallel-item {display: flex;flex-direction: column;z-index: 1;position: relative;background-color: white;}#sk-container-id-4 div.sk-parallel-item:first-child::after {align-self: flex-end;width: 50%;}#sk-container-id-4 div.sk-parallel-item:last-child::after {align-self: flex-start;width: 50%;}#sk-container-id-4 div.sk-parallel-item:only-child::after {width: 0;}#sk-container-id-4 div.sk-dashed-wrapped {border: 1px dashed gray;margin: 0 0.4em 0.5em 0.4em;box-sizing: border-box;padding-bottom: 0.4em;background-color: white;}#sk-container-id-4 div.sk-label label {font-family: monospace;font-weight: bold;display: inline-block;line-height: 1.2em;}#sk-container-id-4 div.sk-label-container {text-align: center;}#sk-container-id-4 div.sk-container {/* jupyter's `normalize.less` sets `[hidden] { display: none; }` but bootstrap.min.css set `[hidden] { display: none !important; }` so we also need the `!important` here to be able to override the default hidden behavior on the sphinx rendered scikit-learn.org. See: https://github.com/scikit-learn/scikit-learn/issues/21755 */display: inline-block !important;position: relative;}#sk-container-id-4 div.sk-text-repr-fallback {display: none;}</style><div id=\"sk-container-id-4\" class=\"sk-top-container\"><div class=\"sk-text-repr-fallback\"><pre>RandomForestRegressor()</pre><b>In a Jupyter environment, please rerun this cell to show the HTML representation or trust the notebook. <br />On GitHub, the HTML representation is unable to render, please try loading this page with nbviewer.org.</b></div><div class=\"sk-container\" hidden><div class=\"sk-item\"><div class=\"sk-estimator sk-toggleable\"><input class=\"sk-toggleable__control sk-hidden--visually\" id=\"sk-estimator-id-4\" type=\"checkbox\" checked><label for=\"sk-estimator-id-4\" class=\"sk-toggleable__label sk-toggleable__label-arrow\">RandomForestRegressor</label><div class=\"sk-toggleable__content\"><pre>RandomForestRegressor()</pre></div></div></div></div></div>"
      ],
      "text/plain": [
       "RandomForestRegressor()"
      ]
     },
     "execution_count": 33,
     "metadata": {},
     "output_type": "execute_result"
    }
   ],
   "source": [
    "from sklearn.ensemble import RandomForestRegressor\n",
    "\n",
    "RFR = RandomForestRegressor()\n",
    "RFR.fit(x_train, y_train)"
   ]
  },
  {
   "cell_type": "code",
   "execution_count": 34,
   "id": "42122f27",
   "metadata": {},
   "outputs": [
    {
     "data": {
      "text/plain": [
       "93.89894081168325"
      ]
     },
     "execution_count": 34,
     "metadata": {},
     "output_type": "execute_result"
    }
   ],
   "source": [
    "(RFR.score(x_test, y_test))*100"
   ]
  },
  {
   "cell_type": "code",
   "execution_count": 35,
   "id": "27d14736",
   "metadata": {},
   "outputs": [],
   "source": [
    "y_pred=RFR.predict(x_test)"
   ]
  },
  {
   "cell_type": "code",
   "execution_count": 36,
   "id": "999539d6",
   "metadata": {},
   "outputs": [],
   "source": [
    "results=pd.DataFrame({'Actual': y_test, 'Predicted': y_pred})"
   ]
  },
  {
   "cell_type": "code",
   "execution_count": 37,
   "id": "65267cc1",
   "metadata": {},
   "outputs": [
    {
     "data": {
      "text/html": [
       "<div>\n",
       "<style scoped>\n",
       "    .dataframe tbody tr th:only-of-type {\n",
       "        vertical-align: middle;\n",
       "    }\n",
       "\n",
       "    .dataframe tbody tr th {\n",
       "        vertical-align: top;\n",
       "    }\n",
       "\n",
       "    .dataframe thead th {\n",
       "        text-align: right;\n",
       "    }\n",
       "</style>\n",
       "<table border=\"1\" class=\"dataframe\">\n",
       "  <thead>\n",
       "    <tr style=\"text-align: right;\">\n",
       "      <th></th>\n",
       "      <th>Actual</th>\n",
       "      <th>Predicted</th>\n",
       "    </tr>\n",
       "  </thead>\n",
       "  <tbody>\n",
       "    <tr>\n",
       "      <th>138602</th>\n",
       "      <td>21.664</td>\n",
       "      <td>21.801409</td>\n",
       "    </tr>\n",
       "    <tr>\n",
       "      <th>52922</th>\n",
       "      <td>23.869</td>\n",
       "      <td>23.828690</td>\n",
       "    </tr>\n",
       "    <tr>\n",
       "      <th>72379</th>\n",
       "      <td>26.195</td>\n",
       "      <td>26.112110</td>\n",
       "    </tr>\n",
       "    <tr>\n",
       "      <th>367931</th>\n",
       "      <td>20.234</td>\n",
       "      <td>20.296720</td>\n",
       "    </tr>\n",
       "    <tr>\n",
       "      <th>252719</th>\n",
       "      <td>22.908</td>\n",
       "      <td>23.079840</td>\n",
       "    </tr>\n",
       "    <tr>\n",
       "      <th>...</th>\n",
       "      <td>...</td>\n",
       "      <td>...</td>\n",
       "    </tr>\n",
       "    <tr>\n",
       "      <th>352173</th>\n",
       "      <td>25.125</td>\n",
       "      <td>24.774750</td>\n",
       "    </tr>\n",
       "    <tr>\n",
       "      <th>348771</th>\n",
       "      <td>23.196</td>\n",
       "      <td>23.194080</td>\n",
       "    </tr>\n",
       "    <tr>\n",
       "      <th>255198</th>\n",
       "      <td>23.773</td>\n",
       "      <td>23.675080</td>\n",
       "    </tr>\n",
       "    <tr>\n",
       "      <th>385640</th>\n",
       "      <td>17.855</td>\n",
       "      <td>17.909150</td>\n",
       "    </tr>\n",
       "    <tr>\n",
       "      <th>117350</th>\n",
       "      <td>19.853</td>\n",
       "      <td>19.614040</td>\n",
       "    </tr>\n",
       "  </tbody>\n",
       "</table>\n",
       "<p>40864 rows × 2 columns</p>\n",
       "</div>"
      ],
      "text/plain": [
       "        Actual  Predicted\n",
       "138602  21.664  21.801409\n",
       "52922   23.869  23.828690\n",
       "72379   26.195  26.112110\n",
       "367931  20.234  20.296720\n",
       "252719  22.908  23.079840\n",
       "...        ...        ...\n",
       "352173  25.125  24.774750\n",
       "348771  23.196  23.194080\n",
       "255198  23.773  23.675080\n",
       "385640  17.855  17.909150\n",
       "117350  19.853  19.614040\n",
       "\n",
       "[40864 rows x 2 columns]"
      ]
     },
     "execution_count": 37,
     "metadata": {},
     "output_type": "execute_result"
    }
   ],
   "source": [
    "results"
   ]
  }
 ],
 "metadata": {
  "kernelspec": {
   "display_name": "Python 3 (ipykernel)",
   "language": "python",
   "name": "python3"
  },
  "language_info": {
   "codemirror_mode": {
    "name": "ipython",
    "version": 3
   },
   "file_extension": ".py",
   "mimetype": "text/x-python",
   "name": "python",
   "nbconvert_exporter": "python",
   "pygments_lexer": "ipython3",
   "version": "3.10.9"
  }
 },
 "nbformat": 4,
 "nbformat_minor": 5
}
